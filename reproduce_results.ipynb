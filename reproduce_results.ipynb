{
 "cells": [
  {
   "cell_type": "code",
   "execution_count": 1,
   "id": "d4d28b3d",
   "metadata": {},
   "outputs": [],
   "source": [
    "import pandas as pd\n",
    "from sklearn import *\n",
    "from sklearn.metrics import accuracy_score, precision_score, recall_score, f1_score, roc_auc_score\n",
    "from utils import *"
   ]
  },
  {
   "cell_type": "code",
   "execution_count": 2,
   "id": "05ef402d",
   "metadata": {},
   "outputs": [],
   "source": [
    "# use this to train and VALIDATE your solution\n",
    "train_df = pd.read_csv(\"./data/quora_train_data.csv\")\n",
    "\n",
    "# use this to provide the expected generalization results\n",
    "test_df = pd.read_csv(\"./data/quora_test_data.csv\")"
   ]
  },
  {
   "cell_type": "code",
   "execution_count": 3,
   "id": "57046887",
   "metadata": {},
   "outputs": [],
   "source": [
    "q1_train =  cast_list_as_strings(list(train_df[\"question1\"]))\n",
    "q2_train =  cast_list_as_strings(list(train_df[\"question2\"]))\n",
    "q1_test  =  cast_list_as_strings(list(test_df[\"question1\"]))\n",
    "q2_test  =  cast_list_as_strings(list(test_df[\"question2\"]))\n",
    "all_questions = q1_train + q2_train"
   ]
  },
  {
   "cell_type": "code",
   "execution_count": 4,
   "id": "07084bdb",
   "metadata": {},
   "outputs": [],
   "source": [
    "X_tr_q1q2 = deserialize_list_from_file('s_X_tr_q1q2')\n",
    "X_te_q1q2  = deserialize_list_from_file('s_X_te_q1q2')"
   ]
  },
  {
   "cell_type": "code",
   "execution_count": 5,
   "id": "788320c4",
   "metadata": {},
   "outputs": [],
   "source": [
    "y_train = train_df[\"is_duplicate\"].values\n",
    "y_test = test_df[\"is_duplicate\"].values"
   ]
  },
  {
   "cell_type": "code",
   "execution_count": 6,
   "id": "580f0e03",
   "metadata": {},
   "outputs": [
    {
     "name": "stdout",
     "output_type": "stream",
     "text": [
      "Perceptron Metrics Train\n",
      "Train Accuracy: 0.7575\n",
      "Train Precision: 0.6938\n",
      "Train Recall: 0.6127\n",
      "Train F1-score: 0.6507\n",
      "Train ROC AUC: 0.8298\n"
     ]
    }
   ],
   "source": [
    "perceptron = joblib.load(\"model_artifacts/perceptron_model.joblib\", mmap_mode=None)\n",
    "y_train_pred = perceptron.predict(X_tr_q1q2)\n",
    "\n",
    "accuracy = accuracy_score(y_train, y_train_pred)\n",
    "precision = precision_score(y_train, y_train_pred)\n",
    "recall = recall_score(y_train, y_train_pred)\n",
    "f1 = f1_score(y_train, y_train_pred)\n",
    "roc_auc = roc_auc_score(y_train, perceptron.decision_function(X_tr_q1q2))\n",
    "\n",
    "print(\"Perceptron Metrics Train\")\n",
    "print(\"Train Accuracy: {:.4f}\".format(accuracy))\n",
    "print(\"Train Precision: {:.4f}\".format(precision))\n",
    "print(\"Train Recall: {:.4f}\".format(recall))\n",
    "print(\"Train F1-score: {:.4f}\".format(f1))\n",
    "print(\"Train ROC AUC: {:.4f}\".format(roc_auc))"
   ]
  },
  {
   "cell_type": "code",
   "execution_count": 7,
   "id": "69e62427",
   "metadata": {},
   "outputs": [
    {
     "name": "stdout",
     "output_type": "stream",
     "text": [
      "Perceptron Metrics Test\n",
      "Train Accuracy: 0.6955\n",
      "Train Precision: 0.5977\n",
      "Train Recall: 0.5473\n",
      "Train F1-score: 0.5714\n",
      "Train ROC AUC: 0.7437\n"
     ]
    }
   ],
   "source": [
    "y_test_pred = perceptron.predict(X_te_q1q2)\n",
    "\n",
    "accuracy = accuracy_score(y_test, y_test_pred)\n",
    "precision = precision_score(y_test, y_test_pred)\n",
    "recall = recall_score(y_test, y_test_pred)\n",
    "f1 = f1_score(y_test, y_test_pred)\n",
    "roc_auc = roc_auc_score(y_test, perceptron.decision_function(X_te_q1q2))\n",
    "\n",
    "print(\"Perceptron Metrics Test\")\n",
    "print(\"Train Accuracy: {:.4f}\".format(accuracy))\n",
    "print(\"Train Precision: {:.4f}\".format(precision))\n",
    "print(\"Train Recall: {:.4f}\".format(recall))\n",
    "print(\"Train F1-score: {:.4f}\".format(f1))\n",
    "print(\"Train ROC AUC: {:.4f}\".format(roc_auc))"
   ]
  },
  {
   "cell_type": "code",
   "execution_count": 8,
   "id": "b3045345",
   "metadata": {},
   "outputs": [
    {
     "name": "stdout",
     "output_type": "stream",
     "text": [
      "Logistic Regression Metrics Train\n",
      "Train Accuracy: 0.7945\n",
      "Train Precision: 0.7618\n",
      "Train Recall: 0.6443\n",
      "Train F1-score: 0.6982\n",
      "Train ROC AUC: 0.8685\n"
     ]
    }
   ],
   "source": [
    "logistic = joblib.load(\"model_artifacts/logistic_model.joblib\", mmap_mode=None)\n",
    "y_train_pred = logistic.predict(X_tr_q1q2)\n",
    "\n",
    "accuracy = accuracy_score(y_train, y_train_pred)\n",
    "precision = precision_score(y_train, y_train_pred)\n",
    "recall = recall_score(y_train, y_train_pred)\n",
    "f1 = f1_score(y_train, y_train_pred)\n",
    "roc_auc = roc_auc_score(y_train, logistic.predict_proba(X_tr_q1q2)[:, 1])\n",
    "\n",
    "print(\"Logistic Regression Metrics Train\")\n",
    "print(\"Train Accuracy: {:.4f}\".format(accuracy))\n",
    "print(\"Train Precision: {:.4f}\".format(precision))\n",
    "print(\"Train Recall: {:.4f}\".format(recall))\n",
    "print(\"Train F1-score: {:.4f}\".format(f1))\n",
    "print(\"Train ROC AUC: {:.4f}\".format(roc_auc))"
   ]
  },
  {
   "cell_type": "code",
   "execution_count": 9,
   "id": "5b824f3e",
   "metadata": {},
   "outputs": [
    {
     "name": "stdout",
     "output_type": "stream",
     "text": [
      "Logistic Regression Metrics Test\n",
      "Train Accuracy: 0.7447\n",
      "Train Precision: 0.6808\n",
      "Train Recall: 0.5866\n",
      "Train F1-score: 0.6302\n",
      "Train ROC AUC: 0.8011\n"
     ]
    }
   ],
   "source": [
    "y_test_pred = logistic.predict(X_te_q1q2)\n",
    "\n",
    "accuracy = accuracy_score(y_test, y_test_pred)\n",
    "precision = precision_score(y_test, y_test_pred)\n",
    "recall = recall_score(y_test, y_test_pred)\n",
    "f1 = f1_score(y_test, y_test_pred)\n",
    "roc_auc = roc_auc_score(y_test, logistic.predict_proba(X_te_q1q2)[:, 1])\n",
    "\n",
    "print(\"Logistic Regression Metrics Test\")\n",
    "print(\"Train Accuracy: {:.4f}\".format(accuracy))\n",
    "print(\"Train Precision: {:.4f}\".format(precision))\n",
    "print(\"Train Recall: {:.4f}\".format(recall))\n",
    "print(\"Train F1-score: {:.4f}\".format(f1))\n",
    "print(\"Train ROC AUC: {:.4f}\".format(roc_auc))"
   ]
  }
 ],
 "metadata": {
  "kernelspec": {
   "display_name": "Python 3 (ipykernel)",
   "language": "python",
   "name": "python3"
  },
  "language_info": {
   "codemirror_mode": {
    "name": "ipython",
    "version": 3
   },
   "file_extension": ".py",
   "mimetype": "text/x-python",
   "name": "python",
   "nbconvert_exporter": "python",
   "pygments_lexer": "ipython3",
   "version": "3.9.16"
  }
 },
 "nbformat": 4,
 "nbformat_minor": 5
}
