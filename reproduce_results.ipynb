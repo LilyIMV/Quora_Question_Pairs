{
 "cells": [
  {
   "cell_type": "code",
   "execution_count": 25,
   "id": "e53d21a7",
   "metadata": {},
   "outputs": [],
   "source": [
    "import joblib\n",
    "import pandas as pd\n",
    "import sklearn\n",
    "from sklearn import *\n",
    "from sklearn.metrics import accuracy_score, precision_score, recall_score, f1_score, roc_auc_score\n",
    "from utils import get_features_from_df, cast_list_as_strings"
   ]
  },
  {
   "cell_type": "code",
   "execution_count": 22,
   "id": "0ad5daa4",
   "metadata": {},
   "outputs": [],
   "source": [
    "# use this to train and VALIDATE your solution\n",
    "train_df = pd.read_csv(\"./data/quora_train_data.csv\")\n",
    "\n",
    "# use this to provide the expected generalization results\n",
    "test_df = pd.read_csv(\"./data/quora_test_data.csv\")\n",
    "\n",
    "q1_train =  cast_list_as_strings(list(train_df[\"question1\"]))\n",
    "q2_train =  cast_list_as_strings(list(train_df[\"question2\"]))\n",
    "q1_test  =  cast_list_as_strings(list(test_df[\"question1\"]))\n",
    "q2_test  =  cast_list_as_strings(list(test_df[\"question2\"]))\n",
    "all_questions = q1_train + q2_train\n",
    "\n",
    "count_vectorizer = sklearn.feature_extraction.text.CountVectorizer(ngram_range=(1,1))\n",
    "count_vectorizer.fit(all_questions)"
   ]
  },
  {
   "cell_type": "code",
   "execution_count": null,
   "id": "6125a619",
   "metadata": {},
   "outputs": [],
   "source": [
    "X_tr_q1q2 = get_features_from_df(train_df,count_vectorizer)\n",
    "X_te_q1q2  = get_features_from_df(test_df, count_vectorizer)\n",
    "\n",
    "y_train = train_df[\"is_duplicate\"].values"
   ]
  },
  {
   "cell_type": "code",
   "execution_count": null,
   "id": "580f0e03",
   "metadata": {},
   "outputs": [],
   "source": [
    "perceptron = joblib.load(\"perceptron_model.joblib\", mmap_mode=None)\n",
    "y_train_pred = perceptron.predict(X_tr_q1q2)\n",
    "\n",
    "accuracy = accuracy_score(y_train, y_train_pred)\n",
    "precision = precision_score(y_train, y_train_pred)\n",
    "recall = recall_score(y_train, y_train_pred)\n",
    "f1 = f1_score(y_train, y_train_pred)\n",
    "roc_auc = roc_auc_score(y_train, perceptron.decision_function(X_tr_q1q2))\n",
    "\n",
    "print(\"Perceptron Metrics\")\n",
    "print(\"Train Accuracy: {:.4f}\".format(accuracy))\n",
    "print(\"Train Precision: {:.4f}\".format(precision))\n",
    "print(\"Train Recall: {:.4f}\".format(recall))\n",
    "print(\"Train F1-score: {:.4f}\".format(f1))\n",
    "print(\"Train ROC AUC: {:.4f}\".format(roc_auc))"
   ]
  },
  {
   "cell_type": "code",
   "execution_count": null,
   "id": "ab54df80",
   "metadata": {},
   "outputs": [],
   "source": [
    "logistic = joblib.load(\"logistic_model.joblib\", mmap_mode=None)\n",
    "y_train_pred = logistic.predict(X_tr_q1q2)\n",
    "\n",
    "accuracy = accuracy_score(y_train, y_train_pred)\n",
    "precision = precision_score(y_train, y_train_pred)\n",
    "recall = recall_score(y_train, y_train_pred)\n",
    "f1 = f1_score(y_train, y_train_pred)\n",
    "roc_auc = roc_auc_score(y_train, logistic.predict_proba(X_tr_q1q2)[:, 1])\n",
    "\n",
    "print(\"Logistic Regression Metrics\")\n",
    "print(\"Train Accuracy: {:.4f}\".format(accuracy))\n",
    "print(\"Train Precision: {:.4f}\".format(precision))\n",
    "print(\"Train Recall: {:.4f}\".format(recall))\n",
    "print(\"Train F1-score: {:.4f}\".format(f1))\n",
    "print(\"Train ROC AUC: {:.4f}\".format(roc_auc))"
   ]
  },
  {
   "cell_type": "code",
   "execution_count": null,
   "id": "d82e0037",
   "metadata": {},
   "outputs": [],
   "source": []
  }
 ],
 "metadata": {
  "kernelspec": {
   "display_name": "Python 3 (ipykernel)",
   "language": "python",
   "name": "python3"
  },
  "language_info": {
   "codemirror_mode": {
    "name": "ipython",
    "version": 3
   },
   "file_extension": ".py",
   "mimetype": "text/x-python",
   "name": "python",
   "nbconvert_exporter": "python",
   "pygments_lexer": "ipython3",
   "version": "3.8.2"
  }
 },
 "nbformat": 4,
 "nbformat_minor": 5
}
